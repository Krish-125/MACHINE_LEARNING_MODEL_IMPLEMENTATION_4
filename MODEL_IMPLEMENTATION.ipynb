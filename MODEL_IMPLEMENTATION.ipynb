{
 "cells": [
  {
   "cell_type": "code",
   "execution_count": null,
   "id": "b185f471",
   "metadata": {},
   "outputs": [],
   "source": [
    "#Model Implementation\n",
    "import pandas as pd  #to read dataset\n",
    "import numpy as np   #to do operations on array\n",
    "import matplotlib.pyplot as plt\n",
    "import seaborn as sns\n",
    "from sklearn.datasets import load_iris   \n",
    "from sklearn.metrics import accuracy_score\n",
    "from sklearn.metrics import confusion_matrix\n",
    "from sklearn.metrics import classification_report\n",
    "from sklearn.model_selection import train_test_split\n",
    "from sklearn.tree import DecisionTreeClassifier\n",
    "from sklearn.tree import plot_tree\n",
    "\n",
    "#reading the iris.csv file\n",
    "iris_data = load_iris()\n",
    "\n",
    "#getting the features\n",
    "x = iris_data.data\n",
    "\n",
    "#getting the target\n",
    "y = iris_data.target\n",
    "\n",
    "#Creating train and test datasets\n",
    "x_train,x_test,y_train,y_test = train_test_split(x, y, random_state = 50, test_size = 0.25)\n",
    "\n",
    "#Creating Decision Tree Classifier\n",
    "dec_tree = DecisionTreeClassifier()\n",
    "dec_tree.fit(x_train, y_train)\n",
    "\n",
    "#Predict Accuracy Score\n",
    "y_pred = dec_tree.predict(x_test)"
   ]
  },
  {
   "cell_type": "code",
   "execution_count": null,
   "id": "97c4f976",
   "metadata": {
    "scrolled": true
   },
   "outputs": [],
   "source": [
    "#Model Evaluation\n",
    "print(\"\\nTrain Data Accuracy : \",accuracy_score(y_true = y_train, y_pred = dec_tree.predict(x_train)))\n",
    "print(\"\\nTest Data Accuracy : \",accuracy_score(y_true = y_test, y_pred = y_pred))\n",
    "\n",
    "#Printing Classification Report\n",
    "print(\"\\nClassification Report: \\n\",classification_report(y_test, y_pred))\n",
    "\n",
    "#Creating and Displaying Confusion Matrix\n",
    "conf_matrix = confusion_matrix(y_test, y_pred)\n",
    "sns.heatmap(conf_matrix, annot=True, fmt='d', cmap='Greens', xticklabels=iris_data.target_names, \n",
    "            yticklabels=iris_data.target_names)\n",
    "plt.xlabel('Predicted')\n",
    "plt.ylabel('Actual')\n",
    "plt.title('Confusion Matrix')\n",
    "plt.show()\n",
    "\n",
    "#Displaying Decision Tree\n",
    "plt.figure(figsize=(12, 8))\n",
    "plot_tree(dec_tree, feature_names=iris_data.feature_names, class_names=iris_data.target_names, filled=True)\n",
    "plt.title('Decision Tree')\n",
    "plt.show()"
   ]
  }
 ],
 "metadata": {
  "kernelspec": {
   "display_name": "Python 3 (ipykernel)",
   "language": "python",
   "name": "python3"
  },
  "language_info": {
   "codemirror_mode": {
    "name": "ipython",
    "version": 3
   },
   "file_extension": ".py",
   "mimetype": "text/x-python",
   "name": "python",
   "nbconvert_exporter": "python",
   "pygments_lexer": "ipython3",
   "version": "3.10.9"
  }
 },
 "nbformat": 4,
 "nbformat_minor": 5
}
